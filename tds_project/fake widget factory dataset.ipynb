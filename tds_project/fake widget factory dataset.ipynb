{
 "cells": [
  {
   "cell_type": "code",
   "execution_count": 1,
   "id": "8c502780-438a-49c3-95d8-77b4e3594613",
   "metadata": {},
   "outputs": [],
   "source": [
    "# Generating Fake Data from python package \"Faker\"\n"
   ]
  },
  {
   "cell_type": "code",
   "execution_count": 2,
   "id": "f302e065-a419-4807-9711-1cb21387449a",
   "metadata": {},
   "outputs": [
    {
     "name": "stdout",
     "output_type": "stream",
     "text": [
      "Defaulting to user installation because normal site-packages is not writeable\n",
      "Requirement already satisfied: Faker in /home/swati/.local/lib/python3.8/site-packages (13.12.0)\n",
      "Requirement already satisfied: python-dateutil>=2.4 in /home/swati/.local/lib/python3.8/site-packages (from Faker) (2.8.2)\n",
      "Requirement already satisfied: six>=1.5 in /usr/lib/python3/dist-packages (from python-dateutil>=2.4->Faker) (1.14.0)\n",
      "\u001b[33mWARNING: You are using pip version 22.0.4; however, version 22.1.1 is available.\n",
      "You should consider upgrading via the '/bin/python3 -m pip install --upgrade pip' command.\u001b[0m\u001b[33m\n",
      "\u001b[0mNote: you may need to restart the kernel to use updated packages.\n"
     ]
    }
   ],
   "source": [
    "pip install Faker"
   ]
  },
  {
   "cell_type": "code",
   "execution_count": 3,
   "id": "cd1e986a-a6bf-4265-b24e-5c3a8710ac8a",
   "metadata": {},
   "outputs": [],
   "source": [
    "# initialize a generator\n",
    "from faker import Faker\n",
    "fake = Faker()\n"
   ]
  },
  {
   "cell_type": "code",
   "execution_count": 4,
   "id": "937b798e-3788-4e8a-bdb0-28b37d8befd8",
   "metadata": {},
   "outputs": [
    {
     "name": "stdout",
     "output_type": "stream",
     "text": [
      "Andrea Hudson\n",
      "2010-03-30\n",
      "PaleGoldenRod\n"
     ]
    }
   ],
   "source": [
    "#create some fake data\n",
    "print(fake.name())\n",
    "print(fake.date_between(start_date='-30y', end_date='today'))\n",
    "print(fake.color_name())"
   ]
  },
  {
   "cell_type": "code",
   "execution_count": 8,
   "id": "2c030abd-10e5-4f47-b605-a60157badb53",
   "metadata": {},
   "outputs": [
    {
     "name": "stdout",
     "output_type": "stream",
     "text": [
      "{'job': 'Secretary, company', 'company': 'Hardy, Kramer and Nelson', 'ssn': '244-96-9763', 'residence': '92283 Smith Place Suite 827\\nSouth Christophertown, AZ 21012', 'current_location': (Decimal('82.2752715'), Decimal('-78.781605')), 'blood_group': 'A+', 'website': ['http://www.jackson-kelly.com/'], 'username': 'jennifer43', 'name': 'Elizabeth Rice', 'sex': 'F', 'address': '02181 Cassandra Trafficway\\nLake Herbertport, GA 03768', 'mail': 'markodonnell@gmail.com', 'birthdate': datetime.date(1915, 9, 30)}\n"
     ]
    }
   ],
   "source": [
    "#creating some fake profiles from data\n",
    "print(fake.profile())"
   ]
  },
  {
   "cell_type": "code",
   "execution_count": 9,
   "id": "ec0b62d6-e789-499a-aa12-bc560a9f1b15",
   "metadata": {},
   "outputs": [
    {
     "name": "stdout",
     "output_type": "stream",
     "text": [
      "['Orange', 'Khaki', 'LightPink', 'LightGreen']\n"
     ]
    }
   ],
   "source": [
    "# create a list of color names\n",
    "colors = [fake.color_name() for x in range(4)]\n",
    "print(colors)"
   ]
  },
  {
   "cell_type": "code",
   "execution_count": 10,
   "id": "d9753076-d917-4949-bf7d-56b9bd2004a9",
   "metadata": {},
   "outputs": [
    {
     "name": "stdout",
     "output_type": "stream",
     "text": [
      "[{'Worker Name': 'Catherine Wilson', 'Hire Date': datetime.date(2021, 11, 16)}, {'Worker Name': 'Parker Rosales', 'Hire Date': datetime.date(2003, 11, 22)}, {'Worker Name': 'Matthew Burton', 'Hire Date': datetime.date(1998, 9, 29)}, {'Worker Name': 'Damon Contreras', 'Hire Date': datetime.date(2017, 8, 15)}, {'Worker Name': 'Meghan Castillo', 'Hire Date': datetime.date(2001, 10, 27)}, {'Worker Name': 'Emily Richardson', 'Hire Date': datetime.date(2021, 7, 2)}, {'Worker Name': 'Crystal Brown', 'Hire Date': datetime.date(1999, 1, 20)}, {'Worker Name': 'Alexander Howard', 'Hire Date': datetime.date(2006, 3, 2)}, {'Worker Name': 'April Perry', 'Hire Date': datetime.date(2017, 6, 20)}, {'Worker Name': 'Leslie Weber', 'Hire Date': datetime.date(2016, 6, 13)}]\n"
     ]
    }
   ],
   "source": [
    "# Using a list comprehension to generate a dictionary \n",
    "# of worker information with the worker’s name and hire date:\n",
    "fake_workers = [\n",
    "    {'Worker Name':fake.name(), \n",
    "     'Hire Date':fake.date_between(start_date='-30y', end_date='today')\n",
    "    } for x in range(10)]\n",
    "                 \n",
    "print(fake_workers)"
   ]
  },
  {
   "cell_type": "code",
   "execution_count": 29,
   "id": "160f9c36-6fea-4693-8aaf-6842a9f15d19",
   "metadata": {},
   "outputs": [],
   "source": [
    "import numpy as np\n",
    "import random\n",
    "import pandas as pd\n",
    "from matplotlib import pyplot as plt"
   ]
  },
  {
   "cell_type": "code",
   "execution_count": 23,
   "id": "356b6a44-fe29-4446-b840-e76217f87162",
   "metadata": {},
   "outputs": [
    {
     "data": {
      "text/plain": [
       "'LightGreen'"
      ]
     },
     "execution_count": 23,
     "metadata": {},
     "output_type": "execute_result"
    }
   ],
   "source": [
    "# Use numpy.random.choice to randomly select a color from our colors list we created using Faker above:\n",
    "# numpys random choice to select a color from our colors list\n",
    "np.random.choice(colors)"
   ]
  },
  {
   "cell_type": "code",
   "execution_count": 24,
   "id": "90ec49da-60bb-4418-8690-3b8f29e29d7b",
   "metadata": {},
   "outputs": [
    {
     "data": {
      "text/plain": [
       "['Khaki', 'LightGreen', 'Orange', 'Khaki', 'Orange']"
      ]
     },
     "execution_count": 24,
     "metadata": {},
     "output_type": "execute_result"
    }
   ],
   "source": [
    "# generate an array of colors with a list comprehension\n",
    "[np.random.choice(colors) for x in range(5)]"
   ]
  },
  {
   "cell_type": "code",
   "execution_count": 25,
   "id": "39cfd1f6-ef21-472b-bc5a-cd2daf28b2c8",
   "metadata": {},
   "outputs": [
    {
     "data": {
      "text/plain": [
       "['Khaki',\n",
       " 'Orange',\n",
       " 'LightPink',\n",
       " 'LightPink',\n",
       " 'Khaki',\n",
       " 'LightPink',\n",
       " 'LightPink',\n",
       " 'Khaki',\n",
       " 'Khaki',\n",
       " 'Khaki']"
      ]
     },
     "execution_count": 25,
     "metadata": {},
     "output_type": "execute_result"
    }
   ],
   "source": [
    "# generate an array of colors with differing probabilities\n",
    "[np.random.choice(colors, p=[0.1, 0.6, 0.1, 0.2]) for x in range(10)]"
   ]
  },
  {
   "cell_type": "code",
   "execution_count": 30,
   "id": "5cd7da9a-c8cc-44a8-96ca-b59da25f60f4",
   "metadata": {},
   "outputs": [
    {
     "data": {
      "image/png": "[encoded data removed]",
      "text/plain": [
       "<Figure size 432x288 with 3 Axes>"
      ]
     },
     "metadata": {
      "needs_background": "light"
     },
     "output_type": "display_data"
    }
   ],
   "source": [
    "# generate normal distribution\n",
    "normal_dist = np.random.normal(loc=5, scale=1, size=1000)\n",
    "\n",
    "# generate gamma distribution\n",
    "gamma_dist = np.random.gamma(shape=3, scale=1, size=1000)\n",
    "\n",
    "# generate exponential distribution\n",
    "exp_dist = np.random.exponential(scale=4, size=1000)\n",
    "\n",
    "# histograms to visualize the distributions\n",
    "fig, [ax1, ax2, ax3] = plt.subplots(1,3)\n",
    "ax1.hist(normal_dist)\n",
    "ax1.set_title('Normal Distribution')\n",
    "\n",
    "ax2.hist(gamma_dist)\n",
    "ax2.set_title('Gamma Distribution')\n",
    "\n",
    "ax3.hist(exp_dist)\n",
    "ax3.set_title('Exponential Distribution')\n",
    "\n",
    "plt.show()"
   ]
  },
  {
   "cell_type": "code",
   "execution_count": 31,
   "id": "e443e76e-0166-47fc-9588-ff659e13ea0a",
   "metadata": {},
   "outputs": [
    {
     "data": {
      "text/html": [
       "<div>\n",
       "<style scoped>\n",
       "    .dataframe tbody tr th:only-of-type {\n",
       "        vertical-align: middle;\n",
       "    }\n",
       "\n",
       "    .dataframe tbody tr th {\n",
       "        vertical-align: top;\n",
       "    }\n",
       "\n",
       "    .dataframe thead th {\n",
       "        text-align: right;\n",
       "    }\n",
       "</style>\n",
       "<table border=\"1\" class=\"dataframe\">\n",
       "  <thead>\n",
       "    <tr style=\"text-align: right;\">\n",
       "      <th></th>\n",
       "      <th>Worker ID</th>\n",
       "      <th>Worker Name</th>\n",
       "      <th>Hire Date</th>\n",
       "      <th>Worker Status</th>\n",
       "      <th>Team</th>\n",
       "    </tr>\n",
       "  </thead>\n",
       "  <tbody>\n",
       "    <tr>\n",
       "      <th>0</th>\n",
       "      <td>1000</td>\n",
       "      <td>Mary Glenn</td>\n",
       "      <td>1996-11-16</td>\n",
       "      <td>Part Time</td>\n",
       "      <td>Aquamarine</td>\n",
       "    </tr>\n",
       "    <tr>\n",
       "      <th>1</th>\n",
       "      <td>1001</td>\n",
       "      <td>Brenda Williams</td>\n",
       "      <td>1999-11-06</td>\n",
       "      <td>Part Time</td>\n",
       "      <td>Snow</td>\n",
       "    </tr>\n",
       "    <tr>\n",
       "      <th>2</th>\n",
       "      <td>1002</td>\n",
       "      <td>Kathy Lamb</td>\n",
       "      <td>2003-11-13</td>\n",
       "      <td>Full Time</td>\n",
       "      <td>MistyRose</td>\n",
       "    </tr>\n",
       "    <tr>\n",
       "      <th>3</th>\n",
       "      <td>1003</td>\n",
       "      <td>Valerie Thompson</td>\n",
       "      <td>2007-02-24</td>\n",
       "      <td>Full Time</td>\n",
       "      <td>MistyRose</td>\n",
       "    </tr>\n",
       "    <tr>\n",
       "      <th>4</th>\n",
       "      <td>1004</td>\n",
       "      <td>Raymond Lopez</td>\n",
       "      <td>2000-11-03</td>\n",
       "      <td>Per Diem</td>\n",
       "      <td>Snow</td>\n",
       "    </tr>\n",
       "  </tbody>\n",
       "</table>\n",
       "</div>"
      ],
      "text/plain": [
       "   Worker ID       Worker Name   Hire Date Worker Status        Team\n",
       "0       1000        Mary Glenn  1996-11-16     Part Time  Aquamarine\n",
       "1       1001   Brenda Williams  1999-11-06     Part Time        Snow\n",
       "2       1002        Kathy Lamb  2003-11-13     Full Time   MistyRose\n",
       "3       1003  Valerie Thompson  2007-02-24     Full Time   MistyRose\n",
       "4       1004     Raymond Lopez  2000-11-03      Per Diem        Snow"
      ]
     },
     "execution_count": 31,
     "metadata": {},
     "output_type": "execute_result"
    }
   ],
   "source": [
    "import pandas as pd\n",
    "import numpy as np\n",
    "import faker\n",
    "\n",
    "# create some fake data\n",
    "fake = Faker()\n",
    "\n",
    "# function to create a dataframe with fake values for our workers\n",
    "def make_workers(num):\n",
    "    \n",
    "    # lists to randomly assign to workers\n",
    "    status_list = ['Full Time', 'Part Time', 'Per Diem']\n",
    "    team_list = [fake.color_name() for x in range(4)]\n",
    "    \n",
    "\n",
    "    fake_workers = [{'Worker ID':x+1000,\n",
    "                  'Worker Name':fake.name(), \n",
    "                  'Hire Date':fake.date_between(start_date='-30y', end_date='today'),\n",
    "                  'Worker Status':np.random.choice(status_list, p=[0.50, 0.30, 0.20]), # assign items from list with different probabilities\n",
    "                  'Team':np.random.choice(team_list)} for x in range(num)]\n",
    "        \n",
    "    return fake_workers\n",
    "\n",
    "worker_df = pd.DataFrame(make_workers(num=5000))\n",
    "worker_df.head()"
   ]
  },
  {
   "cell_type": "code",
   "execution_count": 32,
   "id": "f42b2c01-251c-47fe-b3d5-23dcb6003cb5",
   "metadata": {},
   "outputs": [
    {
     "name": "stdout",
     "output_type": "stream",
     "text": [
      "(2822648, 5)\n"
     ]
    },
    {
     "data": {
      "text/html": [
       "<div>\n",
       "<style scoped>\n",
       "    .dataframe tbody tr th:only-of-type {\n",
       "        vertical-align: middle;\n",
       "    }\n",
       "\n",
       "    .dataframe tbody tr th {\n",
       "        vertical-align: top;\n",
       "    }\n",
       "\n",
       "    .dataframe thead th {\n",
       "        text-align: right;\n",
       "    }\n",
       "</style>\n",
       "<table border=\"1\" class=\"dataframe\">\n",
       "  <thead>\n",
       "    <tr style=\"text-align: right;\">\n",
       "      <th></th>\n",
       "      <th>Item Number</th>\n",
       "      <th>Step 1</th>\n",
       "      <th>Step 2</th>\n",
       "      <th>Step 3</th>\n",
       "      <th>Worker ID</th>\n",
       "    </tr>\n",
       "  </thead>\n",
       "  <tbody>\n",
       "    <tr>\n",
       "      <th>0</th>\n",
       "      <td>9788928-1000</td>\n",
       "      <td>3.341405</td>\n",
       "      <td>7.042393</td>\n",
       "      <td>2.335866</td>\n",
       "      <td>1000</td>\n",
       "    </tr>\n",
       "    <tr>\n",
       "      <th>1</th>\n",
       "      <td>9788960-1000</td>\n",
       "      <td>2.963900</td>\n",
       "      <td>4.149895</td>\n",
       "      <td>3.552613</td>\n",
       "      <td>1000</td>\n",
       "    </tr>\n",
       "    <tr>\n",
       "      <th>2</th>\n",
       "      <td>9788992-1000</td>\n",
       "      <td>2.917185</td>\n",
       "      <td>4.791336</td>\n",
       "      <td>2.976155</td>\n",
       "      <td>1000</td>\n",
       "    </tr>\n",
       "    <tr>\n",
       "      <th>3</th>\n",
       "      <td>9789024-1000</td>\n",
       "      <td>1.763735</td>\n",
       "      <td>7.007945</td>\n",
       "      <td>1.421883</td>\n",
       "      <td>1000</td>\n",
       "    </tr>\n",
       "    <tr>\n",
       "      <th>4</th>\n",
       "      <td>9789056-1000</td>\n",
       "      <td>5.222149</td>\n",
       "      <td>6.415981</td>\n",
       "      <td>0.365557</td>\n",
       "      <td>1000</td>\n",
       "    </tr>\n",
       "  </tbody>\n",
       "</table>\n",
       "</div>"
      ],
      "text/plain": [
       "    Item Number    Step 1    Step 2    Step 3  Worker ID\n",
       "0  9788928-1000  3.341405  7.042393  2.335866       1000\n",
       "1  9788960-1000  2.963900  4.149895  3.552613       1000\n",
       "2  9788992-1000  2.917185  4.791336  2.976155       1000\n",
       "3  9789024-1000  1.763735  7.007945  1.421883       1000\n",
       "4  9789056-1000  5.222149  6.415981  0.365557       1000"
      ]
     },
     "execution_count": 32,
     "metadata": {},
     "output_type": "execute_result"
    }
   ],
   "source": [
    "# function to create widget data\n",
    "\n",
    "def make_widget_data(num):\n",
    "    \n",
    "    fake_widgets = [{'Item Number':id(y),\n",
    "                     'Step 1':np.random.gamma(shape=3, scale=1),\n",
    "                     'Step 2':np.random.normal(5), \n",
    "                     'Step 3':np.random.exponential(4)} for y in range(num)]\n",
    "    \n",
    "    return fake_widgets\n",
    "\n",
    "# empty list to store our widget dataframes in    \n",
    "dfs_list = []\n",
    "\n",
    "# now lets make some widget data for each worker\n",
    "# iterate through the worker dataframe\n",
    "for index, row in worker_df.iterrows():\n",
    "    \n",
    "    # not all workers work at the same rate - or the same number of hours\n",
    "    # randomly select a number of widgets for them to create based on 'worker status'\n",
    "    if row['Worker Status'] == 'Full Time':\n",
    "        num_widgets = random.randrange(500, 1000)\n",
    "    elif row['Worker Status'] == 'Part Time':\n",
    "        num_widgets = random.randrange(100, 500)\n",
    "    else:\n",
    "        num_widgets = random.randrange(1, 1000)\n",
    "        \n",
    "        # make widgets for each worker\n",
    "    tmp_widgets = pd.DataFrame(make_widget_data(num=num_widgets))\n",
    "    \n",
    "    # add worker id so we know who made the widget\n",
    "    tmp_widgets['Worker ID'] = row['Worker ID']\n",
    "    \n",
    "    # make sure item number is unique by appending worker id\n",
    "    tmp_widgets['Item Number'] = tmp_widgets['Item Number'].astype('str')+ '-' + tmp_widgets['Worker ID'].astype('str')\n",
    "    \n",
    "    # append to df list\n",
    "    dfs_list.append(tmp_widgets)\n",
    "    \n",
    "# concatenate all the dfs \n",
    "widget_df = pd.concat(dfs_list)\n",
    "print(widget_df.shape)\n",
    "widget_df.head()"
   ]
  },
  {
   "cell_type": "code",
   "execution_count": 35,
   "id": "05efa40e-1d8a-40f6-bc9b-b911dec45be9",
   "metadata": {},
   "outputs": [],
   "source": [
    "import csv\n",
    "worker_df.to_csv('data_workers.csv', index=False)\n",
    "widget_df.to_csv('data_widgets.csv', index=False)"
   ]
  }
 ],
 "metadata": {
  "kernelspec": {
   "display_name": "Python 3 (ipykernel)",
   "language": "python",
   "name": "python3"
  },
  "language_info": {
   "codemirror_mode": {
    "name": "ipython",
    "version": 3
   },
   "file_extension": ".py",
   "mimetype": "text/x-python",
   "name": "python",
   "nbconvert_exporter": "python",
   "pygments_lexer": "ipython3",
   "version": "3.8.10"
  }
 },
 "nbformat": 4,
 "nbformat_minor": 5
}

